{
  "nbformat": 4,
  "nbformat_minor": 0,
  "metadata": {
    "colab": {
      "provenance": [],
      "authorship_tag": "ABX9TyO0mLRic6Eui23LvUJEy3Su",
      "include_colab_link": true
    },
    "kernelspec": {
      "name": "python3",
      "display_name": "Python 3"
    },
    "language_info": {
      "name": "python"
    }
  },
  "cells": [
    {
      "cell_type": "markdown",
      "metadata": {
        "id": "view-in-github",
        "colab_type": "text"
      },
      "source": [
        "<a href=\"https://colab.research.google.com/github/amirthaprasad11a05/google_kickstart/blob/main/google_kickstart.ipynb\" target=\"_parent\"><img src=\"https://colab.research.google.com/assets/colab-badge.svg\" alt=\"Open In Colab\"/></a>"
      ]
    },
    {
      "cell_type": "code",
      "execution_count": null,
      "metadata": {
        "id": "v2MimmbNUFVQ"
      },
      "outputs": [],
      "source": [
        "#https://codingcompetitions.withgoogle.com/kickstart/round/0000000000435914/00000000008da461\n",
        "#1.string transform:\n",
        "t=int(input())\n",
        "ans_list=[]\n",
        "for x in range(t):\n",
        "  s=input()\n",
        "  f=input()\n",
        "  s_list = []\n",
        "  f_list = []\n",
        "\n",
        "  for i in s:\n",
        "      s_list.append(ord(i))\n",
        "  for i in f:\n",
        "      f_list.append(ord(i))\n",
        "\n",
        "  count = 0\n",
        "\n",
        "  for i in s_list:\n",
        "\n",
        "      new_list = [min(abs(i-j) ,26-abs(i-j)) for j in f_list]\n",
        "      count += min(new_list)\n",
        "  ans_list.append(count)\n",
        "for i in range(len(ans_list)):\n",
        "  print(\"Case #\"+str(i+1)+\":\",str(ans_list[i]))\n"
      ]
    },
    {
      "cell_type": "code",
      "source": [
        "def silly_substitutions(s):\n",
        "\n",
        "    dict1 = {'01':'2', '12':'3', '23':'4', '34':'5', '45':'6','56':'7','67':'8',\n",
        "    '78':'9', '89':'0', '90':'1', '10':'2', '21':'3', '32':'4', '43':'5', '54':'6','65':'7','76':'8',\n",
        "    '87':'9', '98':'0', '09':'1'}\n",
        "\n",
        "    ans = ''\n",
        "\n",
        "    l = 0\n",
        "    r = 2\n",
        "\n",
        "    while l < len(s):\n",
        "        if s[l:r] in dict1:\n",
        "            ans += dict1[s[l:r]]\n",
        "            l = r\n",
        "            r = l + 2\n",
        "        else:\n",
        "            ans += s[l]\n",
        "            l += 1\n",
        "            r += 1\n",
        "\n",
        "    for i in range(len(ans) - 1):\n",
        "        if abs(int(s[i+1]) - int(s[i])) == 1:\n",
        "            ans = silly_substitutions(ans)\n",
        "    return ans\n",
        "\n",
        "\n",
        "t=int(input())\n",
        "ans_list=[]\n",
        "for x in range(t):\n",
        "    n=int(input())\n",
        "    s=input()\n",
        "    ans = silly_substitutions(s)\n",
        "    ans_list.append(ans)\n",
        "\n",
        "for i in range(len(ans_list)):\n",
        "    print(\"Case #\"+str(i+1)+\":\",str(ans_list[i]))\n"
      ],
      "metadata": {
        "id": "4QhHLSFRx3My"
      },
      "execution_count": null,
      "outputs": []
    },
    {
      "cell_type": "code",
      "source": [
        "#https://codingcompetitions.withgoogle.com/kickstart/round/0000000000436140/000000000068cca3\n",
        "#k-goodness:\n",
        "def k_goodness(N,K,S):\n",
        "    g=sum(S[i] != S[-i-1] for i in range(N//2))\n",
        "    return abs(K-g)\n",
        "num=int(input())\n",
        "for c in range(1,num+1):\n",
        "    N,K= map(int,input().split())\n",
        "    S=input().strip()\n",
        "    ans=k_goodness(N,K,S)\n",
        "    print('Case #{}: {}'.format(c,ans))"
      ],
      "metadata": {
        "id": "LA9gyYxjkF8b"
      },
      "execution_count": null,
      "outputs": []
    },
    {
      "cell_type": "code",
      "source": [
        "#https://codingcompetitions.withgoogle.com/kickstart/round/0000000000435a5b/000000000077a8e6\n",
        "#consecutive primes\n",
        "import math\n",
        "def checkprime(num):\n",
        "    if num<5:\n",
        "        return num in (2,3)\n",
        "    if num%2==0 or num%3==0:\n",
        "        return False\n",
        "    for x in range(5,int(math.sqrt(num)+1),6):\n",
        "        if num%x==0 or num%(x+2)==0:\n",
        "            return False\n",
        "    return True\n",
        "def succprime(num):\n",
        "    if num<2:\n",
        "        return 2\n",
        "    if num%2:\n",
        "        pri=num\n",
        "    else:\n",
        "        pri=num-1\n",
        "    while True:\n",
        "        pri+=2\n",
        "        if checkprime(pri):\n",
        "            return pri\n",
        "def mysolve(m):\n",
        "    e=succprime(int(math.sqrt(m))-300)\n",
        "    f=succprime(e)\n",
        "    while e*f<=m:\n",
        "        h=e*f\n",
        "        e,f= f,succprime(f)\n",
        "    return h\n",
        "t=int(input())\n",
        "for ca in range(1,t+1):\n",
        "    m=int(input().strip())\n",
        "    h=mysolve(m)\n",
        "    print('Case #{}: {}'.format(ca,h))"
      ],
      "metadata": {
        "id": "73rD2xNHjheS"
      },
      "execution_count": null,
      "outputs": []
    },
    {
      "cell_type": "code",
      "source": [
        "\n",
        "#Speed Typing\n",
        "#https://codingcompetitions.withgoogle.com/kickstart/round/00000000008cb33e/00000000009e7021\n",
        "def speedtype():\n",
        "    i=input().strip()\n",
        "    p=input().strip()\n",
        "    res=r=0\n",
        "    for a in range(len(p)):\n",
        "        if r<len(i) and i[r]==p[a]:\n",
        "            r+=1\n",
        "        else:\n",
        "            res+=1\n",
        "    return res if r==len(i) else \"IMPOSSIBLE\"\n",
        "for ca in range(int(input())):\n",
        "    print('Case #%d: %s'%(ca+1,speedtype()))"
      ],
      "metadata": {
        "id": "f5MHUr55Yoxo"
      },
      "execution_count": null,
      "outputs": []
    },
    {
      "cell_type": "code",
      "source": [
        "#https://codingcompetitions.withgoogle.com/kickstart/round/00000000008cb33e/00000000009e7997\n",
        "#Challenge Nine\n",
        "def challnine():\n",
        "    N=int(input().strip())\n",
        "    s=list(map(int,str(N)))\n",
        "    x=-sum(s)%9\n",
        "    s.insert(next((i for i in range(int(x==0),len(s)) if s[i] > x), len(s)),x)\n",
        "    return \"\".join(map(str,s))\n",
        "for ca in range(int(input())):\n",
        "    print('Case #%d: %s' % (ca+1,challnine()))"
      ],
      "metadata": {
        "id": "tlmYKSYySs66"
      },
      "execution_count": null,
      "outputs": []
    },
    {
      "cell_type": "code",
      "source": [
        "#https://codingcompetitions.withgoogle.com/kickstart/round/00000000008caa74/0000000000acf079\n",
        "#infinity area\n",
        "from math import pi\n",
        "T=int(input())\n",
        "for x in range(1,T+1):\n",
        "    R,A,B=map(int,input().split())\n",
        "\n",
        "    y= R*R\n",
        "    rad=R\n",
        "    while rad:\n",
        "        rad*=A\n",
        "        y+=rad*rad\n",
        "        rad//=B\n",
        "        y+=rad*rad\n",
        "    y*=pi\n",
        "\n",
        "    print(f\"Case #{x}:{y}\",flush=True)"
      ],
      "metadata": {
        "id": "V7M-cTxVymde"
      },
      "execution_count": null,
      "outputs": []
    },
    {
      "cell_type": "code",
      "source": [
        "#https://codingcompetitions.withgoogle.com/kickstart/round/00000000008caa74/0000000000acee89\n",
        "#Palindromic Factors\n",
        "def ispal(x):\n",
        "    y,n=0,x\n",
        "    while n:\n",
        "        n,r=divmod(n,10)\n",
        "        y=y*10+r\n",
        "    return x==y\n",
        "\n",
        "def palfact():\n",
        "    A=int(input())\n",
        "    res=0\n",
        "    curr=1\n",
        "    while curr*curr<=A:\n",
        "        if A%curr==0:\n",
        "             res+=ispal(curr)\n",
        "             if A//curr!=curr:\n",
        "                 res+=ispal(A//curr)\n",
        "        curr+= 1\n",
        "    return res\n",
        "\n",
        "for ca in range(int(input())):\n",
        "    print('Case #%d: %s' % (ca+1,palfact()))"
      ],
      "metadata": {
        "id": "A1nayx28LKQm"
      },
      "execution_count": null,
      "outputs": []
    },
    {
      "cell_type": "code",
      "source": [
        "#https://codingcompetitions.withgoogle.com/kickstart/round/00000000008cb4d1/0000000000b20f15\n",
        "#New Password\n",
        "from string import ascii_lowercase, ascii_uppercase\n",
        "def newpass():\n",
        "    N=int(input())\n",
        "    P=list(input())\n",
        "    res=P[:]\n",
        "    for req in (UPP,LOW,DI,SP):\n",
        "        if not any(x in req for x in P):\n",
        "            res.append(next(iter(req)))\n",
        "    res.append(next(iter(UPP))*(L-len(res)))\n",
        "    return \"\".join(res)\n",
        "L=7\n",
        "UPP=set(ascii_uppercase)\n",
        "LOW=set(ascii_lowercase)\n",
        "DI=set(str(i) for i in range(10))\n",
        "SP=set(\"#@*&\")\n",
        "for ca in range(int(input())):\n",
        "    print('Case #%d: %s' % (ca+1,newpass()))\n"
      ],
      "metadata": {
        "id": "hzhVz50bPKXl"
      },
      "execution_count": null,
      "outputs": []
    },
    {
      "cell_type": "code",
      "source": [
        "#https://codingcompetitions.withgoogle.com/kickstart/round/00000000008cb4d1/0000000000b20deb\n",
        "#Range Partition\n",
        "def rangepart():\n",
        "    N,X,Y=map(int,input().split())\n",
        "    tot=sum(x for x in range(1,N+1))\n",
        "    q,r=divmod(tot,X+Y)\n",
        "    if r:\n",
        "        return \"IMPOSSIBLE\"\n",
        "    tar=q*X\n",
        "    res=[]\n",
        "    for x in reversed(range(1,N+1)):\n",
        "        if x>tar:\n",
        "            continue\n",
        "        tar-=x\n",
        "        res.append(x)\n",
        "        if not tar:\n",
        "            break\n",
        "    return \"POSSIBLE\\n%s\\n%s\" % (len(res), \" \".join(map(str,res)))\n",
        "\n",
        "for ca in range(int(input())):\n",
        "    print('Case #%d: %s' % (ca+1,rangepart()))"
      ],
      "metadata": {
        "id": "EhW12_tPKWTV"
      },
      "execution_count": null,
      "outputs": []
    },
    {
      "cell_type": "code",
      "source": [
        "#https://codingcompetitions.withgoogle.com/kickstart/round/00000000008caea6/0000000000b76e11\n",
        "#Image Labeler\n",
        "from random import seed,randint\n",
        "def nele(nums,left,n,right,com=lambda a,b:a<b):\n",
        "    def tpart(nums,left,right,tar,com):\n",
        "        mid=left\n",
        "        while mid<=right:\n",
        "            if nums[mid]==tar:\n",
        "                mid+=1\n",
        "            elif com(nums[mid],tar):\n",
        "                nums[left],nums[mid]=nums[mid],nums[left]\n",
        "                left+=1\n",
        "                mid+=1\n",
        "            else:\n",
        "                nums[mid],nums[right]=nums[right],nums[mid]\n",
        "                right-=1\n",
        "        return left,right\n",
        "    while left<=right:\n",
        "        pividx=randint(left,right)\n",
        "        pivleft,pivright=tpart(nums,left,right,nums[pividx], com)\n",
        "\n",
        "        if pivleft<=n<=pivright:\n",
        "            return\n",
        "        elif pivleft>n:\n",
        "            right=pivleft-1\n",
        "        else:\n",
        "            left=pivright+1\n",
        "\n",
        "def imglabel():\n",
        "    N,M=list(map(int,input().split()))\n",
        "    A=list(map(int,input().split()))\n",
        "    nele(A,0,(N-(M-1))-1,N-1)\n",
        "    nele(A,0,(0+((N-(M-1))-1))//2,(N-(M-1))-1)\n",
        "    nele(A,(0+((N-(M-1))-1))//2+1,(0+((N-(M-1))-1))//2+1, (N-(M-1))-1)\n",
        "    return (A[(0+((N-(M-1))-1))//2] if (N-(M-1))%2 else (A[(0+((N-(M-1))-1))//2]+A[(0+((N-(M-1))-1))//2+1])/2.0) + sum(A[~i] for i in range(M-1))\n",
        "\n",
        "seed(0)\n",
        "for ca in range(int(input())):\n",
        "    print('Case #%d: %s' % (ca+1,imglabel()))"
      ],
      "metadata": {
        "id": "NuFPUVG3SpKz"
      },
      "execution_count": null,
      "outputs": []
    },
    {
      "cell_type": "code",
      "source": [
        "#https://codingcompetitions.withgoogle.com/kickstart/round/00000000008caea6/0000000000b76fae\n",
        "#Maximum Gain\n",
        "def minsum(A,tot,l):\n",
        "    res=tot\n",
        "    for i in range(l,len(A)):\n",
        "        tot+=A[i]-A[i-l]\n",
        "        res=min(res,tot)\n",
        "    return res\n",
        "def maxg():\n",
        "    N=int(input())\n",
        "    A=list(map(int,input().split()))\n",
        "    M=int(input())\n",
        "    B=list(map(int,input().split()))\n",
        "    K=int(input())\n",
        "    K=len(A)+len(B)-K\n",
        "    tot1,tot2=sum(A[i] for i in range(max(K-len(B),0))),sum(B[i] for i in range(min(K,len(B))))\n",
        "    res=float(\"inf\")\n",
        "    for i in range(max(K-len(B),0),min(K,len(A))+1):\n",
        "        res=min(res,minsum(A,tot1,i)+minsum(B,tot2,K-i))\n",
        "        if i<len(A):\n",
        "            tot1+=A[i]\n",
        "        if (K-i)-1>=0:\n",
        "            tot2-=B[(K-i)-1]\n",
        "    return sum(A)+sum(B)-res\n",
        "for ca in range(int(input())):\n",
        "    print('Case #%d: %s' % (ca+1,maxg()))"
      ],
      "metadata": {
        "id": "Q61XMHJducjU"
      },
      "execution_count": null,
      "outputs": []
    },
    {
      "cell_type": "code",
      "source": [
        "#https://codingcompetitions.withgoogle.com/kickstart/round/00000000008cb0f5/0000000000ba856a\n",
        "#Coloring Game\n",
        "def cdiv(x,y):\n",
        "    return (x+y-1)//y\n",
        "def colg():\n",
        "    num=int(input())\n",
        "    return cdiv(num,5)\n",
        "for ca in range(int(input())):\n",
        "    print('Case #%d: %s' % (ca+1,colg()))"
      ],
      "metadata": {
        "id": "EgJQ78_Qxo2l"
      },
      "execution_count": null,
      "outputs": []
    },
    {
      "cell_type": "code",
      "source": [
        "#https://codingcompetitions.withgoogle.com/kickstart/round/00000000008cb0f5/0000000000ba84ae\n",
        "#Students and Mentors\n",
        "def stud():\n",
        "    N=int(input())\n",
        "    R=list(map(int,input().split()))\n",
        "    myidx=list(range(N))\n",
        "    myidx.sort(key=lambda x:R[x])\n",
        "    res=[-1]*N\n",
        "    r=0\n",
        "    for l in range(N):\n",
        "        while r+1<N and R[myidx[r+1]]<=2*R[myidx[l]]:\n",
        "            r+=1\n",
        "        if l!=r:\n",
        "            res[myidx[l]]=R[myidx[r]]\n",
        "        elif r-1>=0:\n",
        "            res[myidx[l]]=R[myidx[r-1]]\n",
        "    return \" \".join(map(str,res))\n",
        "for ca in range(int(input())):\n",
        "    print('Case #%d: %s' % (ca+1,stud()))"
      ],
      "metadata": {
        "colab": {
          "base_uri": "https://localhost:8080/"
        },
        "id": "rVrgLbpnsRVz",
        "outputId": "29ffc7e1-4296-4adb-cebf-02fe348f5f41"
      },
      "execution_count": null,
      "outputs": [
        {
          "name": "stdout",
          "output_type": "stream",
          "text": [
            "0\n"
          ]
        }
      ]
    },
    {
      "cell_type": "code",
      "source": [
        "def sortfab():\n",
        "    N=int(input())\n",
        "    fab=[input().split() for _ in range(N)]\n",
        "    A=sorted((C,int(U)) for C,_,U in fab)\n",
        "    B=sorted((int(D),int(U)) for _,D,U in fab)\n",
        "    return sum(a==b for (_,a),(_,b) in zip(A,B))\n",
        "for ca in range(int(input())):\n",
        "    print('Case #%d: %s' % (ca+1,sortfab()))"
      ],
      "metadata": {
        "id": "_yAAj1Q7Mf9C"
      },
      "execution_count": null,
      "outputs": []
    }
  ]
}